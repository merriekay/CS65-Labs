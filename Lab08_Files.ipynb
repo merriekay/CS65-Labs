{
 "cells": [
  {
   "cell_type": "markdown",
   "metadata": {},
   "source": [
    "# Lab 8: Files\n",
    "In this lab, you are going to practice reading data from files into lists (one and two-dimensional) and then writing some programs which analyze the data. In addition to introduce files, this will give you more practice working with loops and lists."
   ]
  },
  {
   "cell_type": "markdown",
   "metadata": {},
   "source": [
    "## Exercise 1:\n",
    "Consider the following example from the lecture. Run it and answer the following questions in your notes."
   ]
  },
  {
   "cell_type": "code",
   "execution_count": null,
   "metadata": {},
   "outputs": [],
   "source": [
    "with open(\"top_male_baby_names_2010s.txt\") as male_names_file:\n",
    "    \n",
    "    male_names = male_names_file.readlines()\n",
    "    \n",
    "    counter = 0\n",
    "    while counter < len(male_names):\n",
    "        male_names[counter] = male_names[counter].rstrip()\n",
    "        counter += 1\n",
    "\n",
    "    print(male_names)"
   ]
  },
  {
   "cell_type": "markdown",
   "metadata": {},
   "source": [
    "* What is the type of `male_names_file`?\n",
    "* What is the type of `male_names`?\n",
    "* What is `male_names[counter]`? How is this different `from male_names[0]`? What is the purpose of `counter`?\n",
    "* What is the purpose of `rstrip()`?\n",
    "* `rstrip()` only works on data of a certain type, which one is it?\n",
    "* What would I need to change about this code to make it work for the female baby names list (which is on the Blackboard page in the file top_female_baby_names_2010s.txt)?"
   ]
  },
  {
   "cell_type": "markdown",
   "metadata": {},
   "source": [
    "## Exercise #2\n",
    "Given two lists, finiding the items that appear in both lists is a common kind of problem. If we apply it to the names lists, we could do this to find out which names were popular as both girls' and boys' names. \n",
    "\n",
    "The following pseudocode gives the algorithm for printing out any items that are common to two different lists.\n",
    "\n",
    "* Loop through each item in list 1.\n",
    "    - If the item from list 1 is in list 2, then print the item.\n",
    "    \n",
    "Load the files top_male_baby_names_2010s.txt and top_female_baby_names_2010s.txt into lists, then use this algorithm to print out any names that are both a top male name and top female name. If you did it right, you should see that the names _Riley_ and _Avery_ are on both lists.\n",
    "    "
   ]
  },
  {
   "cell_type": "markdown",
   "metadata": {},
   "source": [
    "## Exercise #3:\n",
    "Write a program that will determine the average length of names in the top_female_baby_names_2010s.txt file. _Hints:_ you will need to use the `len()` function to find the length of each name; use an accumulator variable for keeping track of the total length, and then divide by the number of names in the list. If you did it right, you should get an answer of 6.035. If you get something like 7.03, it might mean that you're counting the newline characters, so make sure to strip them out."
   ]
  },
  {
   "cell_type": "markdown",
   "metadata": {},
   "source": [
    "There is no __challenge exercise__ for this lab, so there is nothing for you to submit, this is just an opporutnity for you to practice. "
   ]
  }
 ],
 "metadata": {
  "kernelspec": {
   "display_name": "Python 3",
   "language": "python",
   "name": "python3"
  },
  "language_info": {
   "codemirror_mode": {
    "name": "ipython",
    "version": 3
   },
   "file_extension": ".py",
   "mimetype": "text/x-python",
   "name": "python",
   "nbconvert_exporter": "python",
   "pygments_lexer": "ipython3",
   "version": "3.8.3"
  }
 },
 "nbformat": 4,
 "nbformat_minor": 5
}
