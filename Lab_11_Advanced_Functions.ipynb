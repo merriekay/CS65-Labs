{
  "cells": [
    {
      "cell_type": "markdown",
      "metadata": {
        "id": "view-in-github",
        "colab_type": "text"
      },
      "source": [
        "<a href=\"https://colab.research.google.com/github/merriekay/CS65-Labs/blob/main/Lab_11_Advanced_Functions.ipynb\" target=\"_parent\"><img src=\"https://colab.research.google.com/assets/colab-badge.svg\" alt=\"Open In Colab\"/></a>"
      ]
    },
    {
      "cell_type": "markdown",
      "metadata": {
        "id": "lVSgAH94qK5i"
      },
      "source": [
        "# Lab 11: More on Functions\n",
        "In this lab, you are going to practice defining, designing, and documenting your own functions. \n",
        "\n",
        "This lab is a little bit different than the others. There are multiple challenge exercises and the code for all of these should be included in the code that you submit to codepost. "
      ]
    },
    {
      "cell_type": "markdown",
      "metadata": {
        "id": "WGvBQoYzqK5l"
      },
      "source": [
        "## Challenge Exercise #1: `personal_greeting`\n",
        "\n",
        "Write a value-returning function called `personal_greeting` that takes in two parameters:\n",
        "- the first parameter should be a greeting\n",
        "- the second parameter should be a name.\n",
        "The function should return a string-- the greeting followed by the name followed by an exclamation point.\n",
        "\n",
        "For example, the following calls:"
      ]
    },
    {
      "cell_type": "code",
      "execution_count": null,
      "metadata": {
        "id": "q1-OiQk8qK5m"
      },
      "outputs": [],
      "source": [
        "print(personal_greeting(\"Howdy\", \"Cowboy Joe\"))\n",
        "print(personal_greeting(\"Hi\", \"Gus\"))"
      ]
    },
    {
      "cell_type": "markdown",
      "metadata": {
        "id": "qGZaT5WAqK5n"
      },
      "source": [
        "Would output:\n",
        "\n",
        "`Howdy Cowboy Joe!`\n",
        "\n",
        "`Hi Gus!`"
      ]
    },
    {
      "cell_type": "markdown",
      "metadata": {
        "id": "bOuB77knqK5o"
      },
      "source": [
        ">Note: to help with the formatting here, try passing the argument `sep=''` to print()."
      ]
    },
    {
      "cell_type": "code",
      "execution_count": null,
      "metadata": {
        "id": "SpZHNlw9qK5o"
      },
      "outputs": [],
      "source": [
        "#print formatting example\n",
        "print('Wassup,', 'Prof Moore', '!') #this leaves a space between Moore and !, which is annoying\n",
        "print('Wassup,', 'Prof Moore', '!', sep='') # but now, there's no space between Wassup, and Prof\n",
        "print('Wassup, ', 'Prof Moore', '!', sep='')"
      ]
    },
    {
      "cell_type": "markdown",
      "metadata": {
        "id": "VGiHcA5tqK5p"
      },
      "source": [
        "# Challenge Exercise #2: `fizzbuzz`\n",
        "Write a value-returning function called `fizzbuzz` that takes in a single integer as a parameter. The function should return the following: \n",
        "- if the number is divisible by 3, it should print 'fizz'\n",
        "- if the number is divisible by 5, it should print 'buzz'\n",
        "- if the number is divisible by both 3 and 5, it should print 'fizzbuzz'\n",
        "- if none of the above, the function just outputs the number that was input.\n",
        "\n",
        "> __Hint__: Remember, you can use the modulus operator `%` to check if one number is divisible by another (a number is divisible by 2 if `num%2==0`\n",
        "\n",
        "> __Hint__: The order of your conditionals is particularly important here\n",
        "\n",
        "The following calls:"
      ]
    },
    {
      "cell_type": "code",
      "execution_count": null,
      "metadata": {
        "id": "1qivCJzsqK5q"
      },
      "outputs": [],
      "source": [
        "print(fizzbuzz(9))\n",
        "print(fizzbuzz(15))\n",
        "print(fizzbuzz(17))\n",
        "print(fizzbuzz(50))"
      ]
    },
    {
      "cell_type": "markdown",
      "metadata": {
        "id": "aW0_ZJlIqK5q"
      },
      "source": [
        "Would result in the following output:\n",
        "\n",
        "`fizz`\n",
        "\n",
        "`fizzbuzz`\n",
        "\n",
        "`17`\n",
        "\n",
        "`buzz`"
      ]
    },
    {
      "cell_type": "markdown",
      "metadata": {
        "id": "cFQt6T-EqK5r"
      },
      "source": [
        "# Challenge Exercise #3: `return_cost_of_living`\n",
        "\n",
        "Des Moines is a great place to live. If you were going to move somewhere, you may want to consider the cost of living increase.\n",
        "\n",
        "Write a value-returning function called `return_cost_of_living` which will take two parameters:\n",
        "- the first will be your current salary\n",
        "- the second will be one of three possible towns to move to: 'Madison', 'New York', and 'Lost Angeles'.\n",
        "\n",
        "\n",
        "The function will return the corresponding salary you will need to make to maintain you rstandard of living accroding to the following statistics ([obtained from Nerdwalled.com](https://www.nerdwallet.com/cost-of-living-calculator/compare)): \n",
        "- The cost ofo living is 20% higher in Maidson than Des Moines\n",
        "- The cost of living is 186% higher in New York than Des Moines\n",
        "- The cost of living is 66% higher in Los Angeles than Des Moines\n",
        "\n",
        "If the user inputs a town that is not 'Madison', 'New York', or 'Los Angeles', please return 0.\n",
        "\n",
        "Consider the comparison of a $50,000 salary in Des Moines. For example:"
      ]
    },
    {
      "cell_type": "code",
      "execution_count": null,
      "metadata": {
        "id": "odAgZLFrqK5r"
      },
      "outputs": [],
      "source": [
        "def main4():\n",
        "    madison_salary = return_cost_of_living(50000, \"Madison\")\n",
        "    print(\"You would have to make\", madison_salary, \"in Madison to maintain your standard of living in Des Moines.\")\n",
        "    \n",
        "    ny_salary = return_cost_of_living(50000, \"New York\")\n",
        "    print(\"You would have to make\", ny_salary, \"in New York to maintain your standard of living in Des Moines.\")"
      ]
    },
    {
      "cell_type": "markdown",
      "metadata": {
        "id": "me0s-EqQqK5s"
      },
      "source": [
        "Would output:\n",
        "\n",
        "`You would have to make 60000.0 in Madison to maintain your standard of living in Des Moines.`\n",
        "\n",
        "`You would have to make 143000.0 in New York to maintain your standard of living in Des Moines.`"
      ]
    },
    {
      "cell_type": "markdown",
      "metadata": {
        "id": "HmW0-4gYqK5s"
      },
      "source": [
        "# Challenge Exercise #4: `get_letter_grades`\n",
        "\n",
        "Write a value-returning function called `get_letter_grades` that will take in one parameter-- a list of numerical grades (a list of floats), and will return a list of letter grades according to the following table:\n",
        "\n",
        "| Range  | Letter Grade |\n",
        "|--------|--------------|\n",
        "| 90-100 | A            |\n",
        "| 80-90  | B            |\n",
        "| 70-80  | C            |\n",
        "| 60-70  | D            |\n",
        "| < 60   | F            |\n",
        "\n",
        "> Note that the 89.9 should be reported as a B, and 79.9 should be reported as a C, etc.\n",
        "\n",
        "Consider the following function call:"
      ]
    },
    {
      "cell_type": "code",
      "execution_count": null,
      "metadata": {
        "id": "NyQ7Ony6qK5t"
      },
      "outputs": [],
      "source": [
        "grade_list = [98.0, 56.6, 78.9, 92.0, 100, 83.2]\n",
        "print(get_letter_grades(grade_list))"
      ]
    },
    {
      "cell_type": "markdown",
      "metadata": {
        "id": "sPk5WgYVqK5t"
      },
      "source": [
        "Would result in the following output:\n",
        "\n",
        "`['A', 'F', 'C', 'A', 'A', 'B']` "
      ]
    },
    {
      "cell_type": "markdown",
      "metadata": {
        "id": "-9Ns8j9WqK5t"
      },
      "source": [
        "## Information on Submitting Lab 11:\n",
        "\n",
        "You will be graded on the behavior of your functions (assessed by the autograder), as well as the readability of your code.\n",
        "\n",
        "Each function should have a clearly defined __docstring__ that describes the function, the parameters, and the return.\n",
        "\n",
        "I would strongly recommend writing functions to test your code while you work. For example, you could write a function called `test_personal_greeting()` that has the code that you use to make sure the function works as you expect. You can then call this function to test it. But, make sure that you aren't calling these functions when you submit your code.\n",
        "\n",
        "All 4 of the functions should be included in your code. A good thing about CodePost is that since we are working with fucntions, you do not need to write the user input/output statements and make sure they match the words my tests are looking for. On the other hand, you must submit a .py file with the exact name `lab11_functions.py`, and your functions have to have the exact names `personal_greeting()`, `fizzbuzz()`, `return_cost_of_living()`, and `get_letter_grade()`.\n",
        "\n",
        "So, please, double check that:\n",
        "- your file is named, *exactly* `lab11_functions.py`\n",
        "- your functions have *exactly* the names `personal_greeting()`, `fizzbuzz()`, `return_cost_of_living()`, and `get_letter_grade()`.\n"
      ]
    }
  ],
  "metadata": {
    "kernelspec": {
      "display_name": "Python 3",
      "language": "python",
      "name": "python3"
    },
    "language_info": {
      "codemirror_mode": {
        "name": "ipython",
        "version": 3
      },
      "file_extension": ".py",
      "mimetype": "text/x-python",
      "name": "python",
      "nbconvert_exporter": "python",
      "pygments_lexer": "ipython3",
      "version": "3.8.3"
    },
    "colab": {
      "provenance": [],
      "include_colab_link": true
    }
  },
  "nbformat": 4,
  "nbformat_minor": 0
}